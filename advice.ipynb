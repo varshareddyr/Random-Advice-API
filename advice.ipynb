{
  "nbformat": 4,
  "nbformat_minor": 0,
  "metadata": {
    "colab": {
      "provenance": [],
      "authorship_tag": "ABX9TyPoEzedRt2ImxkjbpL2jgt3",
      "include_colab_link": true
    },
    "kernelspec": {
      "name": "python3",
      "display_name": "Python 3"
    },
    "language_info": {
      "name": "python"
    }
  },
  "cells": [
    {
      "cell_type": "markdown",
      "metadata": {
        "id": "view-in-github",
        "colab_type": "text"
      },
      "source": [
        "<a href=\"https://colab.research.google.com/github/varshareddyr/Random-Advice-API/blob/main/advice.ipynb\" target=\"_parent\"><img src=\"https://colab.research.google.com/assets/colab-badge.svg\" alt=\"Open In Colab\"/></a>"
      ]
    },
    {
      "cell_type": "code",
      "execution_count": null,
      "metadata": {
        "colab": {
          "base_uri": "https://localhost:8080/"
        },
        "id": "6OXA4LaYHqpX",
        "outputId": "dd3dd5f7-2573-4b35-bdfd-827b54eedba1"
      },
      "outputs": [
        {
          "output_type": "stream",
          "name": "stdout",
          "text": [
            "💡 Your Random Advice:\n",
            "A nod is as good as a wink to a blind horse.\n"
          ]
        }
      ],
      "source": [
        "# advice.py\n",
        "# Random Advice Generator using Advice Slip API\n",
        "\n",
        "import requests\n",
        "\n",
        "def get_random_advice():\n",
        "    \"\"\"\n",
        "    Fetches random advice from the Advice Slip API.\n",
        "    API: https://api.adviceslip.com/\n",
        "    \"\"\"\n",
        "    url = \"https://api.adviceslip.com/advice\"\n",
        "    response = requests.get(url)\n",
        "\n",
        "    # Check if request was successful\n",
        "    if response.status_code == 200:\n",
        "        data = response.json()\n",
        "        advice = data[\"slip\"][\"advice\"]\n",
        "        return advice\n",
        "    else:\n",
        "        return \"Failed to fetch advice. Please try again later.\"\n",
        "\n",
        "if __name__ == \"__main__\":\n",
        "    print(\"💡 Your Random Advice:\")\n",
        "    print(get_random_advice())\n"
      ]
    }
  ]
}